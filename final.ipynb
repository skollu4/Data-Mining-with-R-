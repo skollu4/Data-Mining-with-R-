{
 "cells": [
  {
   "cell_type": "code",
   "execution_count": null,
   "metadata": {
    "collapsed": true
   },
   "outputs": [],
   "source": []
  },
  {
   "cell_type": "code",
   "execution_count": 9,
   "metadata": {
    "collapsed": true
   },
   "outputs": [],
   "source": [
    "import pandas as pd"
   ]
  },
  {
   "cell_type": "code",
   "execution_count": 10,
   "metadata": {
    "collapsed": true
   },
   "outputs": [],
   "source": [
    "import numpy as np\n"
   ]
  },
  {
   "cell_type": "code",
   "execution_count": 11,
   "metadata": {
    "collapsed": true
   },
   "outputs": [],
   "source": [
    "import types"
   ]
  },
  {
   "cell_type": "code",
   "execution_count": 12,
   "metadata": {
    "collapsed": false
   },
   "outputs": [],
   "source": [
    "from sklearn.ensemble import RandomForestClassifier"
   ]
  },
  {
   "cell_type": "code",
   "execution_count": 13,
   "metadata": {
    "collapsed": true
   },
   "outputs": [],
   "source": [
    "from sklearn import tree"
   ]
  },
  {
   "cell_type": "code",
   "execution_count": 14,
   "metadata": {
    "collapsed": false
   },
   "outputs": [],
   "source": [
    "TrainData = pd.read_csv(\"C:/Users/Shanthi Kollu/Documents/DB2/Final/finalproject_training.csv\")"
   ]
  },
  {
   "cell_type": "code",
   "execution_count": 15,
   "metadata": {
    "collapsed": false
   },
   "outputs": [
    {
     "name": "stdout",
     "output_type": "stream",
     "text": [
      "   RecordID winner  championId    match_id  item2  item3  item0  item1  item6  \\\n",
      "0         0  False         432  1758132392   3143   3117   3069   3190   3340   \n",
      "1         1  False         432  1758132970   2049   3270   3092   3190   3341   \n",
      "2         2  False         432  1758142937   3023   3027   2049   3069   3364   \n",
      "3         3  False         432  1758144918   2049   3024   3092   1001   3341   \n",
      "4         4  False         432  1758145151   3190   2049   3098   3270   3364   \n",
      "\n",
      "   spell2Id  item4  item5  teamId  spell1Id  summoner_id  \n",
      "0         3   2049   3025     200         4     21852930  \n",
      "1         3   3024      0     200         4     40509863  \n",
      "2         4   3117   3067     100         3     23323092  \n",
      "3         3      0      0     200         4     23734765  \n",
      "4         3   2043   1052     100         4     19527594  \n"
     ]
    }
   ],
   "source": [
    "print(TrainData.head())"
   ]
  },
  {
   "cell_type": "code",
   "execution_count": 16,
   "metadata": {
    "collapsed": false
   },
   "outputs": [],
   "source": [
    "TestData = pd.read_csv(\"C:/Users/Shanthi Kollu/Documents/DB2/Final/finalproject_test.csv\")"
   ]
  },
  {
   "cell_type": "code",
   "execution_count": 17,
   "metadata": {
    "collapsed": false
   },
   "outputs": [
    {
     "name": "stdout",
     "output_type": "stream",
     "text": [
      "   RecordID  summoner_id  championId    match_id  item2  item3  item0  item1  \\\n",
      "0         0       425188         432   174745678   3222   3117   3303   2049   \n",
      "1         1     20000114         432  1758134998   3800   3083   2049   3069   \n",
      "2         2     26184782         432  1758135343   2049   3270   3069   2043   \n",
      "3         3     22203011         432  1758136632   3190   2043   3092   3222   \n",
      "4         4     23035866         432  1758145442   2049   3096      0   3190   \n",
      "\n",
      "   item6  item4  item5  teamId  spell1Id  spell2Id  \n",
      "0   3364   3110      0     200         4        14  \n",
      "1   3340   3047   1033     100         4        14  \n",
      "2   3341   3110   1033     100         4         3  \n",
      "3   3364   3270   2045     100         3         4  \n",
      "4   3341   3117   3114     100         3         4  \n"
     ]
    }
   ],
   "source": [
    "print(TestData.head())"
   ]
  },
  {
   "cell_type": "code",
   "execution_count": 18,
   "metadata": {
    "collapsed": true
   },
   "outputs": [],
   "source": [
    "RecordID = TestData.pop(\"RecordID\")\n"
   ]
  },
  {
   "cell_type": "code",
   "execution_count": 19,
   "metadata": {
    "collapsed": true
   },
   "outputs": [],
   "source": [
    "target = TrainData.pop(\"winner\")"
   ]
  },
  {
   "cell_type": "code",
   "execution_count": 20,
   "metadata": {
    "collapsed": false
   },
   "outputs": [],
   "source": [
    "Train_features = TrainData[[\"championId\", \"item2\", \"item1\", \"item0\", \"item3\", \"item4\", \"item6\",\"spell2Id\", \"spell1Id\", \"summoner_id\", \"teamId\" , \"item5\"] ].values "
   ]
  },
  {
   "cell_type": "code",
   "execution_count": 21,
   "metadata": {
    "collapsed": true
   },
   "outputs": [],
   "source": [
    "Test_features = TestData[[\"championId\", \"item2\", \"item1\", \"item0\", \"item3\", \"item4\", \"item6\",\"spell2Id\", \"spell1Id\", \"summoner_id\", \"teamId\" , \"item5\"] ].values"
   ]
  },
  {
   "cell_type": "code",
   "execution_count": 22,
   "metadata": {
    "collapsed": true
   },
   "outputs": [],
   "source": [
    "forest = RandomForestClassifier(max_depth = 10, min_samples_split = 10, n_estimators = 100, random_state =1)"
   ]
  },
  {
   "cell_type": "code",
   "execution_count": 23,
   "metadata": {
    "collapsed": false
   },
   "outputs": [],
   "source": [
    "my_forest = forest.fit(Train_features, target)"
   ]
  },
  {
   "cell_type": "code",
   "execution_count": 24,
   "metadata": {
    "collapsed": false
   },
   "outputs": [
    {
     "name": "stdout",
     "output_type": "stream",
     "text": [
      "0.624242474638\n"
     ]
    }
   ],
   "source": [
    "print(my_forest.score(Train_features, target))"
   ]
  },
  {
   "cell_type": "code",
   "execution_count": 25,
   "metadata": {
    "collapsed": true
   },
   "outputs": [],
   "source": [
    "pred_forest = my_forest.predict(Test_features)"
   ]
  },
  {
   "cell_type": "code",
   "execution_count": 26,
   "metadata": {
    "collapsed": false
   },
   "outputs": [
    {
     "name": "stdout",
     "output_type": "stream",
     "text": [
      "118798\n"
     ]
    }
   ],
   "source": [
    "pred_prob_forest = my_forest.predict_proba(Test_features)\n",
    "print(len(pred_forest))"
   ]
  },
  {
   "cell_type": "code",
   "execution_count": 27,
   "metadata": {
    "collapsed": false
   },
   "outputs": [
    {
     "name": "stdout",
     "output_type": "stream",
     "text": [
      "[[ 0.43278652  0.56721348]\n",
      " [ 0.52334105  0.47665895]\n",
      " [ 0.61799559  0.38200441]\n",
      " ..., \n",
      " [ 0.53573697  0.46426303]\n",
      " [ 0.42021563  0.57978437]\n",
      " [ 0.39168781  0.60831219]]\n"
     ]
    }
   ],
   "source": [
    "print(pred_prob_forest)"
   ]
  },
  {
   "cell_type": "code",
   "execution_count": 28,
   "metadata": {
    "collapsed": true
   },
   "outputs": [],
   "source": [
    "IsWinnerProb2 = pred_prob_forest[:,1]"
   ]
  },
  {
   "cell_type": "code",
   "execution_count": 29,
   "metadata": {
    "collapsed": false
   },
   "outputs": [
    {
     "name": "stdout",
     "output_type": "stream",
     "text": [
      "[ 0.56721348  0.47665895  0.38200441 ...,  0.46426303  0.57978437\n",
      "  0.60831219]\n"
     ]
    }
   ],
   "source": [
    "print(IsWinnerProb2)"
   ]
  },
  {
   "cell_type": "code",
   "execution_count": 30,
   "metadata": {
    "collapsed": true
   },
   "outputs": [],
   "source": [
    "my_solution_csv_LOL = pd.DataFrame(IsWinnerProb2, RecordID, columns = [\"Winner\"])\n"
   ]
  },
  {
   "cell_type": "code",
   "execution_count": 31,
   "metadata": {
    "collapsed": true
   },
   "outputs": [],
   "source": [
    "my_solution_csv_LOL.to_csv(\"Final_output_LOL.csv\", index_label = [\"RecordID\"])"
   ]
  },
  {
   "cell_type": "code",
   "execution_count": null,
   "metadata": {
    "collapsed": true
   },
   "outputs": [],
   "source": []
  }
 ],
 "metadata": {
  "kernelspec": {
   "display_name": "Python 3",
   "language": "python",
   "name": "python3"
  },
  "language_info": {
   "codemirror_mode": {
    "name": "ipython",
    "version": 3
   },
   "file_extension": ".py",
   "mimetype": "text/x-python",
   "name": "python",
   "nbconvert_exporter": "python",
   "pygments_lexer": "ipython3",
   "version": "3.6.0"
  }
 },
 "nbformat": 4,
 "nbformat_minor": 2
}
